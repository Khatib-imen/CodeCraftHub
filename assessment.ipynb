{
 "cells": [
  {
   "cell_type": "markdown",
   "metadata": {},
   "source": [
    "<a href=\"https://www.nvidia.com/dli\"> <img src=\"../images/DLI_Header.png\" alt=\"Header\" style=\"width: 400px;\"/> </a>"
   ]
  },
  {
   "cell_type": "markdown",
   "metadata": {},
   "source": [
    "# Assessment: Authorship Attribution"
   ]
  },
  {
   "cell_type": "markdown",
   "metadata": {},
   "source": [
    "Authorship attribution is a type of text classification problem.  Instead of categorizing text by _topic_, as you did in the disease text classification problem, the objective is to classify the text by _author_.  \n",
    "\n",
    "The inherent assumption in trying to solve a problem like this is that there is *some difference between the styles* of the authors in question, *which can be discerned by a model*.  Is that the case for BERT et al?  Is a language model able to \"understand\" written style? "
   ]
  },
  {
   "cell_type": "markdown",
   "metadata": {},
   "source": [
    "### Table of Contents\n",
    "[The Problem](#The-Problem)<br>\n",
    "[Scoring](#Scoring)<br>\n",
    "[Step 1: Prepare the Data](#Step-1:-Prepare-the-Data)<br>\n",
    "[Step 2: Prepare the Model Configuration](#Step-2:-Prepare-the-Model-Configuration)<br>\n",
    "[Step 3: Prepare the Trainer Configuration](#Step-3:-Prepare-the-Trainer-Configuration)<br>\n",
    "[Step 4: Train](#Step-4:-Train)<br>\n",
    "[Step 5: Infer](#Step-5:-Infer)<br>\n",
    "[Step 6: Submit You Assessment](#Step-6:-Submit-You-Assessment)"
   ]
  },
  {
   "cell_type": "markdown",
   "metadata": {},
   "source": [
    "---\n",
    "# The Problem\n",
    "### The Federalist Papers - History Mystery!\n",
    "\n",
    "The [Federalist Papers](https://en.wikipedia.org/wiki/The_Federalist_Papers) are a set of essays written between 1787 and 1788 by [Alexander Hamilton](https://en.wikipedia.org/wiki/Alexander_Hamilton), [James Madison](https://en.wikipedia.org/wiki/James_Madison) and [John Jay](https://en.wikipedia.org/wiki/John_Jay).  Initially published under the pseudonym 'Publius', their intent was to encourage the ratification of the then-new Constitution of the United States of America.  In later years, a list emerged where the author of each one of the 85 papers was identified.  Nevertheless, for a subset of these papers the author is still in question.  The problem of the Federalist Papers authorship attribution has been a subject of much research in statistical NLP in the past.   Now you will try to solve this question with your own BERT-based project model.\n",
    "<img style=\"float: right;\" src=\"images/HandM.png\" width=400>\n",
    "                                                                                                           \n",
    "In concrete terms, the problem is identifying, for each one of the disputed papers, whether Alexander Hamilton or James Madison are the authors.  For this exercise, you can assume that each paper has a single author, i.e., that no collaboration took place (though *that* is not 100% certain!), and that each author has a well-defined writing style that is displayed across all the identified papers. \n",
    "\n",
    "### Your Project\n",
    "You are provided with labeled `train.tsv` and `dev.tsv` datasets for the project.  There are 10 test sets, one for each of the disputed papers.  All datasets are contained in the `data/federalist_papers_HM` directory.  \n",
    "\n",
    "Each \"sentence\" is actually a group of sentences of approximately 256 words.  The labels are '0' for HAMILTON and '1' for MADISON.  There are more papers by Hamilton in the example files than by Madison.  The validation set has been created with approximately the same distribution of the two labels as in the training set.\n",
    "\n",
    "Your task is to build neural networks using NeMo, as you did in Lab 2.  You'll train your model and test it.  Then you'll use provided collation code to see what answers your model gives to the \"history mystery\"! \n",
    "\n",
    "Along the way, you'll save code snippets that will be tested with the autograder once you are done.  Submission instructions are provided at the end of the notebook for this part."
   ]
  },
  {
   "cell_type": "markdown",
   "metadata": {},
   "source": [
    "---\n",
    "# Scoring\n",
    "You will be assessed on your ability to set up and train a model for the project, rather than the final result.  This coding assessment is worth 70 points, divided as follows:\n",
    "\n",
    "### Rubric\n",
    "\n",
    "| Step                                 | Graded                                                    | FIXMEs?  | Points |\n",
    "|--------------------------------------|-----------------------------------------------------------|----------|--------|\n",
    "| 1. Prepare the Project               | Fix data format (correct format)                          |  2       | 10     |\n",
    "| 2. Prepare the Model Configuration   | Set model parameters for override                         |  3       | 15     |\n",
    "| 3. Prepare the Trainer Configuration | Set trainer parameters for override                       |  3       | 15     |\n",
    "| 4. Train                             | Run the Trainer (training logs indicate training correct) |  4       | 20      |\n",
    "| 5. Infer                             | Run Inference (results indicate working project)          |  0       | 10     |"
   ]
  },
  {
   "cell_type": "markdown",
   "metadata": {},
   "source": [
    "Although you are very capable at this point of building the project without any help at all, some scaffolding is provided, including specific names for variables.  This is for the benefit of the autograder, so please use these constructs for your assessment.  Also, this assessment tests the use of the command line method using the `text_classification_with_bert.py` script and configuration file overrides. You are free to change parameters such as model name, sequence length, batch size, learning rate, number of epochs, and so on to improve your model as you see fit.\n",
    "\n",
    "Once you are confident that you've built a reliable model, follow the instructions for submission at the end of the notebook.\n",
    "\n",
    "### Resources and Hints\n",
    "* **Example code:**<br>\n",
    "In the file browser at your left, you'll find the `lab2_reference_notebooks` directory.  This contains solution notebooks from Lab 2 for text classification and NER to use as examples.\n",
    "* **Language model (PRETRAINED_MODEL_NAME):**<br>\n",
    "You may find it useful to try different language models to better discern style.  Specifically, it may be that capitalization is important, which would mean you'd want to try a \"cased\" model.\n",
    "* **Maximum sequence length (MAX_SEQ_LEN):**<br>\n",
    "Values that can be used for MAX_SEQ_LENGTH are 64, 128, or 256.  Larger models (BERT-large, Megatron) may require a smaller MAX_SEQ_LENGTH to avoid an out-of-memory error.\n",
    "* **Number of Classes (NUM_CLASSES):**<br>\n",
    "For the Federalist Papers, we are only concerned with HAMILTON and MADISON.  The papers by John Jay have been excluded from the dataset.\n",
    "* **Batch size (BATCH_SIZE):**<br>\n",
    "Larger batch sizes train faster, but large language models tend to use up the available memory quickly.\n",
    "* **Memory usage:**<br>\n",
    "Some of the models are very large.   If you get \"RuntimeError: CUDA out of memory\" during training, you'll know you need to reduce the batch size, sequence length, and/or choose a smaller language model, restart the kernel, and try again from the beginning of the notebook.\n",
    "* **Accuracy and loss:**<br>\n",
    "It is definitely possible to achieve 95% or more model accuracy for this project.  In addition to changes in accuracy as the model trains, pay attention to the loss value.  You want the loss value to be dropping and getting very small for best results.\n",
    "* **Number of epochs (NUM_EPOCHS):**<br>\n",
    "You may need to run more epochs for your model (or not!)."
   ]
  },
  {
   "cell_type": "markdown",
   "metadata": {},
   "source": [
    "---\n",
    "# Step 1: Prepare the Data"
   ]
  },
  {
   "cell_type": "code",
   "execution_count": 39,
   "metadata": {},
   "outputs": [],
   "source": [
    "# Import useful utilities for grading\n",
    "import os\n",
    "import json\n",
    "import glob\n",
    "import pandas as pd\n",
    "\n",
    "from omegaconf import OmegaConf\n",
    "\n",
    "def get_latest_model():  \n",
    "    nemo_model_paths = glob.glob('nemo_experiments/TextClassification/*/checkpoints/*.nemo')\n",
    "    # Sort newest first\n",
    "    nemo_model_paths.sort(reverse=True)\n",
    "    return nemo_model_paths[0]"
   ]
  },
  {
   "cell_type": "markdown",
   "metadata": {},
   "source": [
    "The data is located in the data directory - see the list in the following cell:"
   ]
  },
  {
   "cell_type": "code",
   "execution_count": 40,
   "metadata": {},
   "outputs": [
    {
     "name": "stdout",
     "output_type": "stream",
     "text": [
      "cached_dev_nemo_format.tsv_BertTokenizer_128_28996_-1_0_False.pkl\n",
      "cached_train_nemo_format.tsv_BertTokenizer_128_28996_-1_0_True.pkl\n",
      "dev.tsv\n",
      "dev_nemo_format.tsv\n",
      "test.tsv\n",
      "test49.tsv\n",
      "test50.tsv\n",
      "test51.tsv\n",
      "test52.tsv\n",
      "test53.tsv\n",
      "test54.tsv\n",
      "test55.tsv\n",
      "test56.tsv\n",
      "test57.tsv\n",
      "test62.tsv\n",
      "train.tsv\n",
      "train_nemo_format.tsv\n"
     ]
    }
   ],
   "source": [
    "DATA_DIR = '/dli/task/data/federalist_papers_HM'\n",
    "!ls $DATA_DIR"
   ]
  },
  {
   "cell_type": "markdown",
   "metadata": {},
   "source": [
    "## Data Format (graded)\n",
    "The data is not in the correct format for NeMo text classification.  Correct the data and save the new datasets in the DATA_DIR as `train_nemo_format.tsv` and `dev_nemo_format.tsv`.  You do not need to do anything with any of the test files.\n",
    "\n",
    "Complete the <i><strong style=\"color:green;\">#FIXME</strong></i> lines and run the save cell."
   ]
  },
  {
   "cell_type": "code",
   "execution_count": 41,
   "metadata": {},
   "outputs": [],
   "source": [
    "train_data = pd.read_csv(f\"{DATA_DIR}/train.tsv\", sep='\\t')\n",
    "dev_data = pd.read_csv(f\"{DATA_DIR}/dev.tsv\", sep='\\t')"
   ]
  },
  {
   "cell_type": "code",
   "execution_count": 42,
   "metadata": {
    "scrolled": true,
    "tags": []
   },
   "outputs": [
    {
     "name": "stdout",
     "output_type": "stream",
     "text": [
      "*****\n",
      "train_nemo_format.tsv sample\n",
      "*****\n",
      "Concerning Dangers from Dissensions Between the States For the Independent Journal .To the People of the State of New York : THE three last numbers of this paper have been dedicated to an enumeration of the dangers to which we should be exposed , in a state of disunion , from the arms and arts of foreign nations .I shall now proceed to delineate dangers of a different and , perhaps , still more alarming kind -- those which will in all probability flow from dissensions between the States themselves , and from domestic factions and convulsions .These have been already in some instances slightly anticipated ; but they deserve a more particular and more full investigation .A man must be far gone in Utopian speculations who can seriously doubt that , if these States should either be wholly disunited , or only united in partial confederacies , the subdivisions into which they might be thrown would have frequent and violent contests with each other .To presume a want of motives for such contests as an argument against their existence , would be to forget that men are ambitious , vindictive , and rapacious .To look for a continuation of harmony between a number of independent , unconnected sovereignties in the same neighborhood , would be to disregard the uniform course of human events , and to set at defiance the accumulated experience of ages .The causes of hostility among nations are innumerable .\t0\n",
      "There are some which have a general and almost constant operation upon the collective bodies of society .Of this description are the love of power or the desire of pre-eminence and dominion -- the jealousy of power , or the desire of equality and safety .There are others which have a more circumscribed though an equally operative influence within their spheres .Such are the rivalships and competitions of commerce between commercial nations .And there are others , not less numerous than either of the former , which take their origin entirely in private passions ; in the attachments , enmities , interests , hopes , and fears of leading individuals in the communities of which they are members .Men of this class , whether the favorites of a king or of a people , have in too many instances abused the confidence they possessed ; and assuming the pretext of some public motive , have not scrupled to sacrifice the national tranquillity to personal advantage or personal gratification .The celebrated Pericles , in compliance with the resentment of a prostitute,1 at the expense of much of the blood and treasure of his countrymen , attacked , vanquished , and destroyed the city of the SAMNIANS .The same man , stimulated by private pique against the MEGARENSIANS,2 another nation of Greece , or to avoid a prosecution with which he was threatened as an accomplice of a supposed theft of the statuary Phidias,3 or to get rid of the accusations prepared to be brought against him for dissipating the funds of the state in the purchase of popularity,4 or from a combination of all these causes , was the primitive author of that famous and fatal war , distinguished in the Grecian annals by the name of the PELOPONNESIAN war ; which , after various vicissitudes , intermissions , and renewals , terminated in the ruin of the Athenian commonwealth .\t0\n",
      "The ambitious cardinal , who was prime minister to Henry VIII. , permitting his vanity to aspire to the triple crown,5 entertained hopes of succeeding in the acquisition of that splendid prize by the influence of the Emperor Charles V. To secure the favor and interest of this enterprising and powerful monarch , he precipitated England into a war with France , contrary to the plainest dictates of policy , and at the hazard of the safety and independence , as well of the kingdom over which he presided by his counsels , as of Europe in general .For if there ever was a sovereign who bid fair to realize the project of universal monarchy , it was the Emperor Charles V. , of whose intrigues Wolsey was at once the instrument and the dupe .The influence which the bigotry of one female,6 the petulance of another,7 and the cabals of a third,8 had in the contemporary policy , ferments , and pacifications , of a considerable part of Europe , are topics that have been too often descanted upon not to be generally known .To multiply examples of the agency of personal considerations in the production of great national events , either foreign or domestic , according to their direction , would be an unnecessary waste of time .Those who have but a superficial acquaintance with the sources from which they are to be drawn , will themselves recollect a variety of instances ; and those who have a tolerable knowledge of human nature will not stand in need of such lights to form their opinion either of the reality or extent of that agency .\t0\n",
      "\n",
      "\n",
      "*****\n",
      "dev_nemo_format.tsv sample\n",
      "*****\n",
      "There have been , if I may so express it , almost as many popular as royal wars .The cries of the nation and the importunities of their representatives have , upon various occasions , dragged their monarchs into war , or continued them in it , contrary to their inclinations , and sometimes contrary to the real interests of the State .In that memorable struggle for superiority between the rival houses of AUSTRIA and BOURBON , which so long kept Europe in a flame , it is well known that the antipathies of the English against the French , seconding the ambition , or rather the avarice , of a favorite leader,10 protracted the war beyond the limits marked out by sound policy , and for a considerable time in opposition to the views of the court .The wars of these two last-mentioned nations have in a great measure grown out of commercial considerations , -- the desire of supplanting and the fear of being supplanted , either in particular branches of traffic or in the general advantages of trade and navigation .From this summary of what has taken place in other countries , whose situations have borne the nearest resemblance to our own , what reason can we have to confide in those reveries which would seduce us into an expectation of peace and cordiality between the members of the present confederacy , in a state of separation ? Have we not already seen enough of the fallacy and extravagance of those idle theories which have amused us with promises of an exemption from the imperfections , weaknesses and evils incident to society in every shape ?\t0\n",
      "They would , at the same time , be necessitated to strengthen the executive arm of government , in doing which their constitutions would acquire a progressive direction toward monarchy .It is of the nature of war to increase the executive at the expense of the legislative authority .The expedients which have been mentioned would soon give the States or confederacies that made use of them a superiority over their neighbors .Small states , or states of less natural strength , under vigorous governments , and with the assistance of disciplined armies , have often triumphed over large states , or states of greater natural strength , which have been destitute of these advantages .Neither the pride nor the safety of the more important States or confederacies would permit them long to submit to this mortifying and adventitious superiority .They would quickly resort to means similar to those by which it had been effected , to reinstate themselves in their lost pre-eminence .Thus , we should , in a little time , see established in every part of this country the same engines of despotism which have been the scourge of the Old World .This , at least , would be the natural course of things ; and our reasonings will be the more likely to be just , in proportion as they are accommodated to this standard .These are not vague inferences drawn from supposed or speculative defects in a Constitution , the whole power of which is lodged in the hands of a people , or their representatives and delegates , but they are solid conclusions , drawn from the natural and necessary progress of human affairs .\t0\n",
      "Such a point gained from the British government , and which could not be expected without an equivalent in exemptions and immunities in our markets , would be likely to have a correspondent effect on the conduct of other nations , who would not be inclined to see themselves altogether supplanted in our trade .A further resource for influencing the conduct of European nations toward us , in this respect , would arise from the establishment of a federal navy .There can be no doubt that the continuance of the Union under an efficient government would put it in our power , at a period not very distant , to create a navy which , if it could not vie with those of the great maritime powers , would at least be of respectable weight if thrown into the scale of either of two contending parties .This would be more peculiarly the case in relation to operations in the West Indies .A few ships of the line , sent opportunely to the reinforcement of either side , would often be sufficient to decide the fate of a campaign , on the event of which interests of the greatest magnitude were suspended .Our position is , in this respect , a most commanding one .And if to this consideration we add that of the usefulness of supplies from this country , in the prosecution of military operations in the West Indies , it will readily be perceived that a situation so favorable would enable us to bargain with great advantage for commercial privileges .\t0\n"
     ]
    }
   ],
   "source": [
    "# check your work\n",
    "print(\"*****\\ntrain_nemo_format.tsv sample\\n*****\")\n",
    "!head -n 3 $DATA_DIR/train_nemo_format.tsv\n",
    "print(\"\\n\\n*****\\ndev_nemo_format.tsv sample\\n*****\")\n",
    "!head -n 3 $DATA_DIR/dev_nemo_format.tsv"
   ]
  },
  {
   "cell_type": "code",
   "execution_count": 43,
   "metadata": {},
   "outputs": [],
   "source": [
    "# Run to save for assessment- DO NOT CHANGE\n",
    "import os.path\n",
    "DATA_DIR = '/dli/task/data/federalist_papers_HM'\n",
    "step1 = []\n",
    "try:\n",
    "    with open(os.path.join(DATA_DIR,'train_nemo_format.tsv')) as f:\n",
    "        content = f.readlines()\n",
    "        step1 += content[:2]\n",
    "    with open(os.path.join(DATA_DIR,'dev_nemo_format.tsv')) as f:\n",
    "        content = f.readlines()\n",
    "        step1 += content[:2]\n",
    "except:\n",
    "    pass\n",
    "                \n",
    "with open(\"my_assessment/step1.json\", \"w\") as outfile: \n",
    "    json.dump(step1, outfile) "
   ]
  },
  {
   "cell_type": "markdown",
   "metadata": {},
   "source": [
    "---\n",
    "# Step 2: Prepare the Model Configuration\n",
    "Review the default model configuration and available language models."
   ]
  },
  {
   "cell_type": "code",
   "execution_count": 44,
   "metadata": {
    "scrolled": true,
    "tags": []
   },
   "outputs": [
    {
     "name": "stdout",
     "output_type": "stream",
     "text": [
      "nemo_path: text_classification_model.nemo\n",
      "tokenizer:\n",
      "  tokenizer_name: ${model.language_model.pretrained_model_name}\n",
      "  vocab_file: null\n",
      "  tokenizer_model: null\n",
      "  special_tokens: null\n",
      "language_model:\n",
      "  pretrained_model_name: bert-base-uncased\n",
      "  lm_checkpoint: null\n",
      "  config_file: null\n",
      "  config: null\n",
      "classifier_head:\n",
      "  num_output_layers: 2\n",
      "  fc_dropout: 0.1\n",
      "class_labels:\n",
      "  class_labels_file: null\n",
      "dataset:\n",
      "  num_classes: ???\n",
      "  do_lower_case: false\n",
      "  max_seq_length: 256\n",
      "  class_balancing: null\n",
      "  use_cache: false\n",
      "train_ds:\n",
      "  file_path: null\n",
      "  batch_size: 64\n",
      "  shuffle: true\n",
      "  num_samples: -1\n",
      "  num_workers: 3\n",
      "  drop_last: false\n",
      "  pin_memory: false\n",
      "validation_ds:\n",
      "  file_path: null\n",
      "  batch_size: 64\n",
      "  shuffle: false\n",
      "  num_samples: -1\n",
      "  num_workers: 3\n",
      "  drop_last: false\n",
      "  pin_memory: false\n",
      "test_ds:\n",
      "  file_path: null\n",
      "  batch_size: 64\n",
      "  shuffle: false\n",
      "  num_samples: -1\n",
      "  num_workers: 3\n",
      "  drop_last: false\n",
      "  pin_memory: false\n",
      "optim:\n",
      "  name: adam\n",
      "  lr: 2.0e-05\n",
      "  betas:\n",
      "  - 0.9\n",
      "  - 0.999\n",
      "  weight_decay: 0.01\n",
      "  sched:\n",
      "    name: WarmupAnnealing\n",
      "    warmup_steps: null\n",
      "    warmup_ratio: 0.1\n",
      "    last_epoch: -1\n",
      "    monitor: val_loss\n",
      "    reduce_on_plateau: false\n",
      "infer_samples:\n",
      "- by the end of no such thing the audience , like beatrice , has a watchful affection\n",
      "  for the monster .\n",
      "- director rob marshall went out gunning to make a great one .\n",
      "- uneasy mishmash of styles and genres .\n",
      "\n"
     ]
    }
   ],
   "source": [
    "# Take a look at the default model portion of the config file\n",
    "CONFIG_DIR = \"/dli/task/nemo/examples/nlp/text_classification/conf\"\n",
    "CONFIG_FILE = \"text_classification_config.yaml\"\n",
    "\n",
    "config = OmegaConf.load(CONFIG_DIR + \"/\" + CONFIG_FILE)\n",
    "print(OmegaConf.to_yaml(config.model))"
   ]
  },
  {
   "cell_type": "code",
   "execution_count": 45,
   "metadata": {
    "scrolled": true,
    "tags": []
   },
   "outputs": [
    {
     "data": {
      "text/plain": [
       "['megatron-bert-345m-uncased',\n",
       " 'megatron-bert-345m-cased',\n",
       " 'megatron-bert-uncased',\n",
       " 'megatron-bert-cased',\n",
       " 'biomegatron-bert-345m-uncased',\n",
       " 'biomegatron-bert-345m-cased',\n",
       " 'bert-base-uncased',\n",
       " 'bert-large-uncased',\n",
       " 'bert-base-cased',\n",
       " 'bert-large-cased',\n",
       " 'bert-base-multilingual-uncased',\n",
       " 'bert-base-multilingual-cased',\n",
       " 'bert-base-chinese',\n",
       " 'bert-base-german-cased',\n",
       " 'bert-large-uncased-whole-word-masking',\n",
       " 'bert-large-cased-whole-word-masking',\n",
       " 'bert-large-uncased-whole-word-masking-finetuned-squad',\n",
       " 'bert-large-cased-whole-word-masking-finetuned-squad',\n",
       " 'bert-base-cased-finetuned-mrpc',\n",
       " 'bert-base-german-dbmdz-cased',\n",
       " 'bert-base-german-dbmdz-uncased',\n",
       " 'cl-tohoku/bert-base-japanese',\n",
       " 'cl-tohoku/bert-base-japanese-whole-word-masking',\n",
       " 'cl-tohoku/bert-base-japanese-char',\n",
       " 'cl-tohoku/bert-base-japanese-char-whole-word-masking',\n",
       " 'TurkuNLP/bert-base-finnish-cased-v1',\n",
       " 'TurkuNLP/bert-base-finnish-uncased-v1',\n",
       " 'wietsedv/bert-base-dutch-cased',\n",
       " 'distilbert-base-uncased',\n",
       " 'distilbert-base-uncased-distilled-squad',\n",
       " 'distilbert-base-cased',\n",
       " 'distilbert-base-cased-distilled-squad',\n",
       " 'distilbert-base-german-cased',\n",
       " 'distilbert-base-multilingual-cased',\n",
       " 'distilbert-base-uncased-finetuned-sst-2-english',\n",
       " 'roberta-base',\n",
       " 'roberta-large',\n",
       " 'roberta-large-mnli',\n",
       " 'distilroberta-base',\n",
       " 'roberta-base-openai-detector',\n",
       " 'roberta-large-openai-detector',\n",
       " 'albert-base-v1',\n",
       " 'albert-large-v1',\n",
       " 'albert-xlarge-v1',\n",
       " 'albert-xxlarge-v1',\n",
       " 'albert-base-v2',\n",
       " 'albert-large-v2',\n",
       " 'albert-xlarge-v2',\n",
       " 'albert-xxlarge-v2']"
      ]
     },
     "execution_count": 45,
     "metadata": {},
     "output_type": "execute_result"
    }
   ],
   "source": [
    "# See what BERT-like language models are available\n",
    "from nemo.collections import nlp as nemo_nlp\n",
    "nemo_nlp.modules.get_pretrained_lm_models_list()"
   ]
  },
  {
   "cell_type": "markdown",
   "metadata": {},
   "source": [
    "## Set Parameters (graded)\n",
    "Complete the <i><strong style=\"color:green;\">#FIXME</strong></i> lines and run the save cell."
   ]
  },
  {
   "cell_type": "code",
   "execution_count": 46,
   "metadata": {},
   "outputs": [],
   "source": [
    "# set the values\n",
    "NUM_CLASSES = 3\n",
    "MAX_SEQ_LENGTH = 128\n",
    "BATCH_SIZE = 16 \n",
    "PATH_TO_TRAIN_FILE = \"/dli/task/data/federalist_papers_HM/train_nemo_format.tsv\"\n",
    "PATH_TO_VAL_FILE = \"/dli/task/data/federalist_papers_HM/dev_nemo_format.tsv\"\n",
    "PRETRAINED_MODEL_NAME = 'bert-base-cased' # change as desired\n",
    "LR = 1e-4 # change as desired"
   ]
  },
  {
   "cell_type": "code",
   "execution_count": 47,
   "metadata": {},
   "outputs": [],
   "source": [
    "# Run to save for assessment- DO NOT CHANGE\n",
    "with open(\"my_assessment/step2.json\", \"w\") as outfile: \n",
    "    json.dump([MAX_SEQ_LENGTH, NUM_CLASSES, BATCH_SIZE], outfile) "
   ]
  },
  {
   "cell_type": "markdown",
   "metadata": {},
   "source": [
    "---\n",
    "# Step 3: Prepare the Trainer Configuration\n",
    "Review the default trainer and exp_manager configurations."
   ]
  },
  {
   "cell_type": "code",
   "execution_count": 48,
   "metadata": {},
   "outputs": [
    {
     "name": "stdout",
     "output_type": "stream",
     "text": [
      "gpus: 1\n",
      "num_nodes: 1\n",
      "max_epochs: 100\n",
      "max_steps: null\n",
      "accumulate_grad_batches: 1\n",
      "gradient_clip_val: 0.0\n",
      "amp_level: O0\n",
      "precision: 32\n",
      "accelerator: ddp\n",
      "log_every_n_steps: 1\n",
      "val_check_interval: 1.0\n",
      "resume_from_checkpoint: null\n",
      "num_sanity_val_steps: 0\n",
      "checkpoint_callback: false\n",
      "logger: false\n",
      "\n",
      "exp_dir: null\n",
      "name: TextClassification\n",
      "create_tensorboard_logger: true\n",
      "create_checkpoint_callback: true\n",
      "\n"
     ]
    }
   ],
   "source": [
    "print(OmegaConf.to_yaml(config.trainer))\n",
    "print(OmegaConf.to_yaml(config.exp_manager))"
   ]
  },
  {
   "cell_type": "markdown",
   "metadata": {},
   "source": [
    "## Set Parameters (graded)\n",
    "Set the automatic mixed precision to level 1 with FP16 precision.  Set the MAX_EPOCHS to a reasonable level, perhaps between 5 and 20.  <br>Complete the <i><strong style=\"color:green;\">#FIXME</strong></i> lines and run the save cell."
   ]
  },
  {
   "cell_type": "code",
   "execution_count": 57,
   "metadata": {},
   "outputs": [],
   "source": [
    "# set the values\n",
    "MAX_EPOCHS = 5 \n",
    "AMP_LEVEL = 'O1'\n",
    "PRECISION = 16"
   ]
  },
  {
   "cell_type": "code",
   "execution_count": 58,
   "metadata": {},
   "outputs": [],
   "source": [
    "# Run to save for assessment - DO NOT CHANGE\n",
    "with open(\"my_assessment/step3.json\", \"w\") as outfile: \n",
    "    json.dump([MAX_EPOCHS, AMP_LEVEL, PRECISION], outfile) "
   ]
  },
  {
   "cell_type": "markdown",
   "metadata": {
    "tags": []
   },
   "source": [
    "---\n",
    "# Step 4: Train"
   ]
  },
  {
   "cell_type": "markdown",
   "metadata": {},
   "source": [
    "### Run the Trainer (graded)\n",
    "Complete the <i><strong style=\"color:green;\">#FIXME</strong></i> in the following cell for train and validation batch sizes, amp level, and precision.  Then train and run the save cell!"
   ]
  },
  {
   "cell_type": "code",
   "execution_count": 59,
   "metadata": {
    "scrolled": true,
    "tags": []
   },
   "outputs": [
    {
     "name": "stdout",
     "output_type": "stream",
     "text": [
      "[NeMo W 2025-02-23 17:54:33 nemo_logging:349] /opt/conda/lib/python3.8/site-packages/omegaconf/basecontainer.py:225: UserWarning: cfg.pretty() is deprecated and will be removed in a future version.\n",
      "    Use OmegaConf.to_yaml(cfg)\n",
      "    \n",
      "      warnings.warn(\n",
      "    \n",
      "[NeMo I 2025-02-23 17:54:33 text_classification_with_bert:110] \n",
      "    Config Params:\n",
      "    trainer:\n",
      "      gpus: 1\n",
      "      num_nodes: 1\n",
      "      max_epochs: 5\n",
      "      max_steps: null\n",
      "      accumulate_grad_batches: 1\n",
      "      gradient_clip_val: 0.0\n",
      "      amp_level: O1\n",
      "      precision: 16\n",
      "      accelerator: ddp\n",
      "      log_every_n_steps: 1\n",
      "      val_check_interval: 1.0\n",
      "      resume_from_checkpoint: null\n",
      "      num_sanity_val_steps: 0\n",
      "      checkpoint_callback: false\n",
      "      logger: false\n",
      "    model:\n",
      "      nemo_path: text_classification_model.nemo\n",
      "      tokenizer:\n",
      "        tokenizer_name: ${model.language_model.pretrained_model_name}\n",
      "        vocab_file: null\n",
      "        tokenizer_model: null\n",
      "        special_tokens: null\n",
      "      language_model:\n",
      "        pretrained_model_name: bert-base-cased\n",
      "        lm_checkpoint: null\n",
      "        config_file: null\n",
      "        config: null\n",
      "      classifier_head:\n",
      "        num_output_layers: 2\n",
      "        fc_dropout: 0.1\n",
      "      class_labels:\n",
      "        class_labels_file: null\n",
      "      dataset:\n",
      "        num_classes: 3\n",
      "        do_lower_case: false\n",
      "        max_seq_length: 128\n",
      "        class_balancing: null\n",
      "        use_cache: false\n",
      "      train_ds:\n",
      "        file_path: /dli/task/data/federalist_papers_HM/train_nemo_format.tsv\n",
      "        batch_size: 16\n",
      "        shuffle: true\n",
      "        num_samples: -1\n",
      "        num_workers: 3\n",
      "        drop_last: false\n",
      "        pin_memory: false\n",
      "      validation_ds:\n",
      "        file_path: /dli/task/data/federalist_papers_HM/dev_nemo_format.tsv\n",
      "        batch_size: 16\n",
      "        shuffle: false\n",
      "        num_samples: -1\n",
      "        num_workers: 3\n",
      "        drop_last: false\n",
      "        pin_memory: false\n",
      "      test_ds:\n",
      "        file_path: null\n",
      "        batch_size: 64\n",
      "        shuffle: false\n",
      "        num_samples: -1\n",
      "        num_workers: 3\n",
      "        drop_last: false\n",
      "        pin_memory: false\n",
      "      optim:\n",
      "        name: adam\n",
      "        lr: 2.0e-05\n",
      "        betas:\n",
      "        - 0.9\n",
      "        - 0.999\n",
      "        weight_decay: 0.01\n",
      "        sched:\n",
      "          name: WarmupAnnealing\n",
      "          warmup_steps: null\n",
      "          warmup_ratio: 0.1\n",
      "          last_epoch: -1\n",
      "          monitor: val_loss\n",
      "          reduce_on_plateau: false\n",
      "      infer_samples: []\n",
      "    exp_manager:\n",
      "      exp_dir: null\n",
      "      name: TextClassification\n",
      "      create_tensorboard_logger: true\n",
      "      create_checkpoint_callback: true\n",
      "    \n",
      "GPU available: True, used: True\n",
      "TPU available: False, using: 0 TPU cores\n",
      "Using native 16bit precision.\n",
      "[NeMo I 2025-02-23 17:54:33 exp_manager:216] Experiments will be logged at /dli/task/nemo_experiments/TextClassification/2025-02-23_17-54-33\n",
      "[NeMo I 2025-02-23 17:54:33 exp_manager:563] TensorboardLogger has been set up\n",
      "Using bos_token, but it is not set yet.\n",
      "Using eos_token, but it is not set yet.\n",
      "[NeMo I 2025-02-23 17:54:34 text_classification_dataset:120] Read 502 examples from /dli/task/data/federalist_papers_HM/train_nemo_format.tsv.\n",
      "[NeMo I 2025-02-23 17:54:34 text_classification_dataset:238] *** Example ***\n",
      "[NeMo I 2025-02-23 17:54:34 text_classification_dataset:239] example 0: ['We', 'are', 'not', 'authorized', 'to', 'expect', 'that', 'a', 'more', 'liberal', 'or', 'more', 'equitable', 'spirit', 'would', 'preside', 'over', 'the', 'legislations', 'of', 'the', 'individual', 'States', 'hereafter', ',', 'if', 'unrestrained', 'by', 'any', 'additional', 'checks', ',', 'than', 'we', 'have', 'heretofore', 'seen', 'in', 'too', 'many', 'instances', 'disgracing', 'their', 'several', 'codes', '.We', 'have', 'observed', 'the', 'disposition', 'to', 'retaliation', 'excited', 'in', 'Connecticut', 'in', 'consequence', 'of', 'the', 'enormities', 'perpetrated', 'by', 'the', 'Legislature', 'of', 'Rhode', 'Island', ';', 'and', 'we', 'reasonably', 'infer', 'that', ',', 'in', 'similar', 'cases', ',', 'under', 'other', 'circumstances', ',', 'a', 'war', ',', 'not', 'of', 'PARCHMENT', ',', 'but', 'of', 'the', 'sword', ',', 'would', 'chastise', 'such', 'atrocious', 'breaches', 'of', 'moral', 'obligation', 'and', 'social', 'justice', '.The', 'probability', 'of', 'incompatible', 'alliances', 'between', 'the', 'different', 'States', 'or', 'confederacies', 'and', 'different', 'foreign', 'nations', ',', 'and', 'the', 'effects', 'of', 'this', 'situation', 'upon', 'the', 'peace', 'of', 'the', 'whole', ',', 'have', 'been', 'sufficiently', 'unfolded', 'in', 'some', 'preceding', 'papers', '.From', 'the', 'view', 'they', 'have', 'exhibited', 'of', 'this', 'part', 'of', 'the', 'subject', ',', 'this', 'conclusion', 'is', 'to', 'be', 'drawn', ',', 'that', 'America', ',', 'if', 'not', 'connected', 'at', 'all', ',', 'or', 'only', 'by', 'the', 'feeble', 'tie', 'of', 'a', 'simple', 'league', ',', 'offensive', 'and', 'defensive', ',', 'would', ',', 'by', 'the', 'operation', 'of', 'such', 'jarring', 'alliances', ',', 'be', 'gradually', 'entangled', 'in', 'all', 'the', 'pernicious', 'labyrinths', 'of', 'European', 'politics', 'and', 'wars', ';', 'and', 'by', 'the', 'destructive', 'contentions', 'of', 'the', 'parts', 'into', 'which', 'she', 'was', 'divided', ',', 'would', 'be', 'likely', 'to', 'become', 'a', 'prey', 'to', 'the', 'artifices', 'and', 'machinations', 'of', 'powers', 'equally', 'the', 'enemies', 'of', 'them', 'all', '.']\n",
      "[NeMo I 2025-02-23 17:54:34 text_classification_dataset:240] subtokens: [CLS] We are not authorized to expect that a more liberal or more e ##qui ##table spirit would pre ##side over the legislation ##s of the individual States here ##aft ##er , if unrest ##rain ##ed by any additional checks , than we have here ##to ##fo ##re seen in too many instances di ##s ##gra ##cing their several codes . We have observed the disposition to retaliation excited in Connecticut in consequence of the en ##orm ##ities per ##pet ##rated by the Legislature of Rhode Island ; and we reasonably in ##fer that , in similar cases , under other circumstances , a war , not of PA ##RC ##H ##ME ##NT , but of the sword , would ch ##ast ##ise such at ##ro ##cious breach [SEP]\n",
      "[NeMo I 2025-02-23 17:54:34 text_classification_dataset:241] input_ids: 101 1284 1132 1136 9320 1106 5363 1115 170 1167 7691 1137 1167 174 18276 8637 4840 1156 3073 5570 1166 1103 5626 1116 1104 1103 2510 1311 1303 17495 1200 117 1191 18366 11098 1174 1118 1251 2509 15008 117 1190 1195 1138 1303 2430 14467 1874 1562 1107 1315 1242 12409 4267 1116 14867 4869 1147 1317 9812 119 1284 1138 4379 1103 25622 1106 20921 7215 1107 5432 1107 9547 1104 1103 4035 24211 4233 1679 12924 5894 1118 1103 10461 1104 9502 2054 132 1105 1195 17517 1107 6732 1115 117 1107 1861 2740 117 1223 1168 5607 117 170 1594 117 1136 1104 8544 10036 3048 14424 15681 117 1133 1104 1103 4346 117 1156 22572 12788 4862 1216 1120 2180 9589 13275 102\n",
      "[NeMo I 2025-02-23 17:54:34 text_classification_dataset:242] segment_ids: 0 0 0 0 0 0 0 0 0 0 0 0 0 0 0 0 0 0 0 0 0 0 0 0 0 0 0 0 0 0 0 0 0 0 0 0 0 0 0 0 0 0 0 0 0 0 0 0 0 0 0 0 0 0 0 0 0 0 0 0 0 0 0 0 0 0 0 0 0 0 0 0 0 0 0 0 0 0 0 0 0 0 0 0 0 0 0 0 0 0 0 0 0 0 0 0 0 0 0 0 0 0 0 0 0 0 0 0 0 0 0 0 0 0 0 0 0 0 0 0 0 0 0 0 0 0 0 0 0\n",
      "[NeMo I 2025-02-23 17:54:34 text_classification_dataset:243] input_mask: 1 1 1 1 1 1 1 1 1 1 1 1 1 1 1 1 1 1 1 1 1 1 1 1 1 1 1 1 1 1 1 1 1 1 1 1 1 1 1 1 1 1 1 1 1 1 1 1 1 1 1 1 1 1 1 1 1 1 1 1 1 1 1 1 1 1 1 1 1 1 1 1 1 1 1 1 1 1 1 1 1 1 1 1 1 1 1 1 1 1 1 1 1 1 1 1 1 1 1 1 1 1 1 1 1 1 1 1 1 1 1 1 1 1 1 1 1 1 1 1 1 1 1 1 1 1 1 1 1\n",
      "[NeMo I 2025-02-23 17:54:34 text_classification_dataset:244] label: 0\n",
      "[NeMo I 2025-02-23 17:54:34 text_classification_dataset:238] *** Example ***\n",
      "[NeMo I 2025-02-23 17:54:34 text_classification_dataset:239] example 1: ['This', 'conjecture', 'is', 'rendered', 'probable', ',', 'not', 'only', 'by', 'many', 'considerations', 'of', 'a', 'general', 'nature', ',', 'but', 'by', 'the', 'particular', 'case', 'of', 'the', 'Articles', 'of', 'Confederation', '.It', 'is', 'observable', 'that', 'among', 'the', 'numerous', 'objections', 'and', 'amendments', 'suggested', 'by', 'the', 'several', 'States', ',', 'when', 'these', 'articles', 'were', 'submitted', 'for', 'their', 'ratification', ',', 'not', 'one', 'is', 'found', 'which', 'alludes', 'to', 'the', 'great', 'and', 'radical', 'error', 'which', 'on', 'actual', 'trial', 'has', 'discovered', 'itself', '.And', 'if', 'we', 'except', 'the', 'observations', 'which', 'New', 'Jersey', 'was', 'led', 'to', 'make', ',', 'rather', 'by', 'her', 'local', 'situation', ',', 'than', 'by', 'her', 'peculiar', 'foresight', ',', 'it', 'may', 'be', 'questioned', 'whether', 'a', 'single', 'suggestion', 'was', 'of', 'sufficient', 'moment', 'to', 'justify', 'a', 'revision', 'of', 'the', 'system', '.There', 'is', 'abundant', 'reason', ',', 'nevertheless', ',', 'to', 'suppose', 'that', 'immaterial', 'as', 'these', 'objections', 'were', ',', 'they', 'would', 'have', 'been', 'adhered', 'to', 'with', 'a', 'very', 'dangerous', 'inflexibility', ',', 'in', 'some', 'States', ',', 'had', 'not', 'a', 'zeal', 'for', 'their', 'opinions', 'and', 'supposed', 'interests', 'been', 'stifled', 'by', 'the', 'more', 'powerful', 'sentiment', 'of', 'selfpreservation', '.One', 'State', ',', 'we', 'may', 'remember', ',', 'persisted', 'for', 'several', 'years', 'in', 'refusing', 'her', 'concurrence', ',', 'although', 'the', 'enemy', 'remained', 'the', 'whole', 'period', 'at', 'our', 'gates', ',', 'or', 'rather', 'in', 'the', 'very', 'bowels', 'of', 'our', 'country', '.Nor', 'was', 'her', 'pliancy', 'in', 'the', 'end', 'effected', 'by', 'a', 'less', 'motive', ',', 'than', 'the', 'fear', 'of', 'being', 'chargeable', 'with', 'protracting', 'the', 'public', 'calamities', ',', 'and', 'endangering', 'the', 'event', 'of', 'the', 'contest', '.Every', 'candid', 'reader', 'will', 'make', 'the', 'proper', 'reflections', 'on', 'these', 'important', 'facts', '.']\n",
      "[NeMo I 2025-02-23 17:54:34 text_classification_dataset:240] subtokens: [CLS] This conjecture is rendered probable , not only by many considerations of a general nature , but by the particular case of the Articles of Confederation . It is o ##bs ##er ##vable that among the numerous objections and amendments suggested by the several States , when these articles were submitted for their rat ##ification , not one is found which all ##udes to the great and radical error which on actual trial has discovered itself . And if we except the observations which New Jersey was led to make , rather by her local situation , than by her peculiar fore ##sight , it may be questioned whether a single suggestion was of sufficient moment to justify a revision of the system . There is abundant [SEP]\n",
      "[NeMo I 2025-02-23 17:54:34 text_classification_dataset:241] input_ids: 101 1188 26031 1110 10029 16950 117 1136 1178 1118 1242 19069 1104 170 1704 2731 117 1133 1118 1103 2440 1692 1104 1103 21191 1104 13052 119 1135 1110 184 4832 1200 12598 1115 1621 1103 2567 19072 1105 19696 3228 1118 1103 1317 1311 117 1165 1292 4237 1127 7402 1111 1147 11631 5783 117 1136 1141 1110 1276 1134 1155 23757 1106 1103 1632 1105 8276 7353 1134 1113 4315 3443 1144 2751 2111 119 1262 1191 1195 2589 1103 9959 1134 1203 3308 1108 1521 1106 1294 117 1897 1118 1123 1469 2820 117 1190 1118 1123 15404 24387 18883 117 1122 1336 1129 8449 2480 170 1423 10219 1108 1104 6664 1721 1106 17422 170 16547 1104 1103 1449 119 1247 1110 13504 102\n",
      "[NeMo I 2025-02-23 17:54:34 text_classification_dataset:242] segment_ids: 0 0 0 0 0 0 0 0 0 0 0 0 0 0 0 0 0 0 0 0 0 0 0 0 0 0 0 0 0 0 0 0 0 0 0 0 0 0 0 0 0 0 0 0 0 0 0 0 0 0 0 0 0 0 0 0 0 0 0 0 0 0 0 0 0 0 0 0 0 0 0 0 0 0 0 0 0 0 0 0 0 0 0 0 0 0 0 0 0 0 0 0 0 0 0 0 0 0 0 0 0 0 0 0 0 0 0 0 0 0 0 0 0 0 0 0 0 0 0 0 0 0 0 0 0 0 0 0 0\n",
      "[NeMo I 2025-02-23 17:54:34 text_classification_dataset:243] input_mask: 1 1 1 1 1 1 1 1 1 1 1 1 1 1 1 1 1 1 1 1 1 1 1 1 1 1 1 1 1 1 1 1 1 1 1 1 1 1 1 1 1 1 1 1 1 1 1 1 1 1 1 1 1 1 1 1 1 1 1 1 1 1 1 1 1 1 1 1 1 1 1 1 1 1 1 1 1 1 1 1 1 1 1 1 1 1 1 1 1 1 1 1 1 1 1 1 1 1 1 1 1 1 1 1 1 1 1 1 1 1 1 1 1 1 1 1 1 1 1 1 1 1 1 1 1 1 1 1 1\n",
      "[NeMo I 2025-02-23 17:54:34 text_classification_dataset:244] label: 1\n",
      "[NeMo W 2025-02-23 17:54:40 text_classification_dataset:250] Found 502 out of 502 sentences with more than 128 subtokens. Truncated long sentences from the end.\n",
      "[NeMo I 2025-02-23 17:54:40 data_preprocessing:299] Some stats of the lengths of the sequences:\n",
      "[NeMo I 2025-02-23 17:54:40 data_preprocessing:301] Min: 129 |                  Max: 129 |                  Mean: 129.0 |                  Median: 129.0\n",
      "[NeMo I 2025-02-23 17:54:40 data_preprocessing:307] 75 percentile: 129.00\n",
      "[NeMo I 2025-02-23 17:54:40 data_preprocessing:308] 99 percentile: 129.00\n",
      "[NeMo I 2025-02-23 17:54:40 text_classification_dataset:120] Read 115 examples from /dli/task/data/federalist_papers_HM/dev_nemo_format.tsv.\n",
      "[NeMo I 2025-02-23 17:54:40 text_classification_dataset:238] *** Example ***\n",
      "[NeMo I 2025-02-23 17:54:40 text_classification_dataset:239] example 0: ['There', 'have', 'been', ',', 'if', 'I', 'may', 'so', 'express', 'it', ',', 'almost', 'as', 'many', 'popular', 'as', 'royal', 'wars', '.The', 'cries', 'of', 'the', 'nation', 'and', 'the', 'importunities', 'of', 'their', 'representatives', 'have', ',', 'upon', 'various', 'occasions', ',', 'dragged', 'their', 'monarchs', 'into', 'war', ',', 'or', 'continued', 'them', 'in', 'it', ',', 'contrary', 'to', 'their', 'inclinations', ',', 'and', 'sometimes', 'contrary', 'to', 'the', 'real', 'interests', 'of', 'the', 'State', '.In', 'that', 'memorable', 'struggle', 'for', 'superiority', 'between', 'the', 'rival', 'houses', 'of', 'AUSTRIA', 'and', 'BOURBON', ',', 'which', 'so', 'long', 'kept', 'Europe', 'in', 'a', 'flame', ',', 'it', 'is', 'well', 'known', 'that', 'the', 'antipathies', 'of', 'the', 'English', 'against', 'the', 'French', ',', 'seconding', 'the', 'ambition', ',', 'or', 'rather', 'the', 'avarice', ',', 'of', 'a', 'favorite', 'leader,10', 'protracted', 'the', 'war', 'beyond', 'the', 'limits', 'marked', 'out', 'by', 'sound', 'policy', ',', 'and', 'for', 'a', 'considerable', 'time', 'in', 'opposition', 'to', 'the', 'views', 'of', 'the', 'court', '.The', 'wars', 'of', 'these', 'two', 'last-mentioned', 'nations', 'have', 'in', 'a', 'great', 'measure', 'grown', 'out', 'of', 'commercial', 'considerations', ',', '--', 'the', 'desire', 'of', 'supplanting', 'and', 'the', 'fear', 'of', 'being', 'supplanted', ',', 'either', 'in', 'particular', 'branches', 'of', 'traffic', 'or', 'in', 'the', 'general', 'advantages', 'of', 'trade', 'and', 'navigation', '.From', 'this', 'summary', 'of', 'what', 'has', 'taken', 'place', 'in', 'other', 'countries', ',', 'whose', 'situations', 'have', 'borne', 'the', 'nearest', 'resemblance', 'to', 'our', 'own', ',', 'what', 'reason', 'can', 'we', 'have', 'to', 'confide', 'in', 'those', 'reveries', 'which', 'would', 'seduce', 'us', 'into', 'an', 'expectation', 'of', 'peace', 'and', 'cordiality', 'between', 'the', 'members', 'of', 'the', 'present', 'confederacy', ',', 'in', 'a', 'state', 'of', 'separation', '?', 'Have', 'we', 'not', 'already', 'seen', 'enough', 'of', 'the', 'fallacy', 'and', 'extravagance', 'of', 'those', 'idle', 'theories', 'which', 'have', 'amused', 'us', 'with', 'promises', 'of', 'an', 'exemption', 'from', 'the', 'imperfections', ',', 'weaknesses', 'and', 'evils', 'incident', 'to', 'society', 'in', 'every', 'shape', '?']\n",
      "[NeMo I 2025-02-23 17:54:40 text_classification_dataset:240] subtokens: [CLS] There have been , if I may so express it , almost as many popular as royal wars . The cries of the nation and the import ##uni ##ties of their representatives have , upon various occasions , dragged their monarch ##s into war , or continued them in it , contrary to their inclination ##s , and sometimes contrary to the real interests of the State . In that memorable struggle for superiority between the rival houses of AU ##ST ##RI ##A and B ##O ##UR ##BO ##N , which so long kept Europe in a flame , it is well known that the anti ##path ##ies of the English against the French , second ##ing the ambition , or rather the a ##var ##ice , [SEP]\n",
      "[NeMo I 2025-02-23 17:54:40 text_classification_dataset:241] input_ids: 101 1247 1138 1151 117 1191 146 1336 1177 6848 1122 117 1593 1112 1242 1927 1112 4276 8755 119 1109 13881 1104 1103 3790 1105 1103 13757 19782 4338 1104 1147 6683 1138 117 1852 1672 6070 117 7509 1147 14390 1116 1154 1594 117 1137 1598 1172 1107 1122 117 11565 1106 1147 24753 1116 117 1105 2121 11565 1106 1103 1842 4740 1104 1103 1426 119 1130 1115 14113 5637 1111 21378 1206 1103 6048 2725 1104 21646 9272 20595 1592 1105 139 2346 19556 23904 2249 117 1134 1177 1263 2023 1980 1107 170 9925 117 1122 1110 1218 1227 1115 1103 2848 16606 1905 1104 1103 1483 1222 1103 1497 117 1248 1158 1103 19034 117 1137 1897 1103 170 8997 4396 117 102\n",
      "[NeMo I 2025-02-23 17:54:40 text_classification_dataset:242] segment_ids: 0 0 0 0 0 0 0 0 0 0 0 0 0 0 0 0 0 0 0 0 0 0 0 0 0 0 0 0 0 0 0 0 0 0 0 0 0 0 0 0 0 0 0 0 0 0 0 0 0 0 0 0 0 0 0 0 0 0 0 0 0 0 0 0 0 0 0 0 0 0 0 0 0 0 0 0 0 0 0 0 0 0 0 0 0 0 0 0 0 0 0 0 0 0 0 0 0 0 0 0 0 0 0 0 0 0 0 0 0 0 0 0 0 0 0 0 0 0 0 0 0 0 0 0 0 0 0 0 0\n",
      "[NeMo I 2025-02-23 17:54:40 text_classification_dataset:243] input_mask: 1 1 1 1 1 1 1 1 1 1 1 1 1 1 1 1 1 1 1 1 1 1 1 1 1 1 1 1 1 1 1 1 1 1 1 1 1 1 1 1 1 1 1 1 1 1 1 1 1 1 1 1 1 1 1 1 1 1 1 1 1 1 1 1 1 1 1 1 1 1 1 1 1 1 1 1 1 1 1 1 1 1 1 1 1 1 1 1 1 1 1 1 1 1 1 1 1 1 1 1 1 1 1 1 1 1 1 1 1 1 1 1 1 1 1 1 1 1 1 1 1 1 1 1 1 1 1 1 1\n",
      "[NeMo I 2025-02-23 17:54:40 text_classification_dataset:244] label: 0\n",
      "[NeMo I 2025-02-23 17:54:40 text_classification_dataset:238] *** Example ***\n",
      "[NeMo I 2025-02-23 17:54:40 text_classification_dataset:239] example 1: ['They', 'would', ',', 'at', 'the', 'same', 'time', ',', 'be', 'necessitated', 'to', 'strengthen', 'the', 'executive', 'arm', 'of', 'government', ',', 'in', 'doing', 'which', 'their', 'constitutions', 'would', 'acquire', 'a', 'progressive', 'direction', 'toward', 'monarchy', '.It', 'is', 'of', 'the', 'nature', 'of', 'war', 'to', 'increase', 'the', 'executive', 'at', 'the', 'expense', 'of', 'the', 'legislative', 'authority', '.The', 'expedients', 'which', 'have', 'been', 'mentioned', 'would', 'soon', 'give', 'the', 'States', 'or', 'confederacies', 'that', 'made', 'use', 'of', 'them', 'a', 'superiority', 'over', 'their', 'neighbors', '.Small', 'states', ',', 'or', 'states', 'of', 'less', 'natural', 'strength', ',', 'under', 'vigorous', 'governments', ',', 'and', 'with', 'the', 'assistance', 'of', 'disciplined', 'armies', ',', 'have', 'often', 'triumphed', 'over', 'large', 'states', ',', 'or', 'states', 'of', 'greater', 'natural', 'strength', ',', 'which', 'have', 'been', 'destitute', 'of', 'these', 'advantages', '.Neither', 'the', 'pride', 'nor', 'the', 'safety', 'of', 'the', 'more', 'important', 'States', 'or', 'confederacies', 'would', 'permit', 'them', 'long', 'to', 'submit', 'to', 'this', 'mortifying', 'and', 'adventitious', 'superiority', '.They', 'would', 'quickly', 'resort', 'to', 'means', 'similar', 'to', 'those', 'by', 'which', 'it', 'had', 'been', 'effected', ',', 'to', 'reinstate', 'themselves', 'in', 'their', 'lost', 'pre-eminence', '.Thus', ',', 'we', 'should', ',', 'in', 'a', 'little', 'time', ',', 'see', 'established', 'in', 'every', 'part', 'of', 'this', 'country', 'the', 'same', 'engines', 'of', 'despotism', 'which', 'have', 'been', 'the', 'scourge', 'of', 'the', 'Old', 'World', '.This', ',', 'at', 'least', ',', 'would', 'be', 'the', 'natural', 'course', 'of', 'things', ';', 'and', 'our', 'reasonings', 'will', 'be', 'the', 'more', 'likely', 'to', 'be', 'just', ',', 'in', 'proportion', 'as', 'they', 'are', 'accommodated', 'to', 'this', 'standard', '.These', 'are', 'not', 'vague', 'inferences', 'drawn', 'from', 'supposed', 'or', 'speculative', 'defects', 'in', 'a', 'Constitution', ',', 'the', 'whole', 'power', 'of', 'which', 'is', 'lodged', 'in', 'the', 'hands', 'of', 'a', 'people', ',', 'or', 'their', 'representatives', 'and', 'delegates', ',', 'but', 'they', 'are', 'solid', 'conclusions', ',', 'drawn', 'from', 'the', 'natural', 'and', 'necessary', 'progress', 'of', 'human', 'affairs', '.']\n",
      "[NeMo I 2025-02-23 17:54:40 text_classification_dataset:240] subtokens: [CLS] They would , at the same time , be ne ##cess ##itated to strengthen the executive arm of government , in doing which their constitution ##s would acquire a progressive direction toward monarchy . It is of the nature of war to increase the executive at the expense of the legislative authority . The ex ##ped ##ients which have been mentioned would soon give the States or con ##fe ##der ##ac ##ies that made use of them a superiority over their neighbors . Small states , or states of less natural strength , under vigorous governments , and with the assistance of discipline ##d armies , have often triumph ##ed over large states , or states of greater natural strength , which have been des ##ti ##tu [SEP]\n",
      "[NeMo I 2025-02-23 17:54:40 text_classification_dataset:241] input_ids: 101 1220 1156 117 1120 1103 1269 1159 117 1129 24928 22371 13512 1106 13346 1103 3275 1981 1104 1433 117 1107 1833 1134 1147 7119 1116 1156 9703 170 8706 2447 1755 14358 119 1135 1110 1104 1103 2731 1104 1594 1106 2773 1103 3275 1120 1103 11013 1104 1103 7663 3748 119 1109 4252 3537 24767 1134 1138 1151 3025 1156 1770 1660 1103 1311 1137 14255 8124 2692 7409 1905 1115 1189 1329 1104 1172 170 21378 1166 1147 11209 119 6844 2231 117 1137 2231 1104 1750 2379 3220 117 1223 24739 6670 117 1105 1114 1103 5052 1104 9360 1181 9099 117 1138 1510 14558 1174 1166 1415 2231 117 1137 2231 1104 3407 2379 3220 117 1134 1138 1151 3532 3121 7926 102\n",
      "[NeMo I 2025-02-23 17:54:40 text_classification_dataset:242] segment_ids: 0 0 0 0 0 0 0 0 0 0 0 0 0 0 0 0 0 0 0 0 0 0 0 0 0 0 0 0 0 0 0 0 0 0 0 0 0 0 0 0 0 0 0 0 0 0 0 0 0 0 0 0 0 0 0 0 0 0 0 0 0 0 0 0 0 0 0 0 0 0 0 0 0 0 0 0 0 0 0 0 0 0 0 0 0 0 0 0 0 0 0 0 0 0 0 0 0 0 0 0 0 0 0 0 0 0 0 0 0 0 0 0 0 0 0 0 0 0 0 0 0 0 0 0 0 0 0 0 0\n",
      "[NeMo I 2025-02-23 17:54:40 text_classification_dataset:243] input_mask: 1 1 1 1 1 1 1 1 1 1 1 1 1 1 1 1 1 1 1 1 1 1 1 1 1 1 1 1 1 1 1 1 1 1 1 1 1 1 1 1 1 1 1 1 1 1 1 1 1 1 1 1 1 1 1 1 1 1 1 1 1 1 1 1 1 1 1 1 1 1 1 1 1 1 1 1 1 1 1 1 1 1 1 1 1 1 1 1 1 1 1 1 1 1 1 1 1 1 1 1 1 1 1 1 1 1 1 1 1 1 1 1 1 1 1 1 1 1 1 1 1 1 1 1 1 1 1 1 1\n",
      "[NeMo I 2025-02-23 17:54:40 text_classification_dataset:244] label: 0\n",
      "[NeMo W 2025-02-23 17:54:42 text_classification_dataset:250] Found 115 out of 115 sentences with more than 128 subtokens. Truncated long sentences from the end.\n",
      "[NeMo I 2025-02-23 17:54:42 data_preprocessing:299] Some stats of the lengths of the sequences:\n",
      "[NeMo I 2025-02-23 17:54:42 data_preprocessing:301] Min: 129 |                  Max: 129 |                  Mean: 129.0 |                  Median: 129.0\n",
      "[NeMo I 2025-02-23 17:54:42 data_preprocessing:307] 75 percentile: 129.00\n",
      "[NeMo I 2025-02-23 17:54:42 data_preprocessing:308] 99 percentile: 129.00\n",
      "[NeMo I 2025-02-23 17:54:42 text_classification_model:216] Dataloader config or file_path for the test is missing, so no data loader for test is created!\n",
      "[NeMo W 2025-02-23 17:54:42 modelPT:197] You tried to register an artifact under config key=tokenizer.vocab_file but an artifact forit has already been registered.\n",
      "[NeMo W 2025-02-23 17:54:42 nemo_logging:349] /opt/conda/lib/python3.8/site-packages/nemo/core/classes/modelPT.py:243: UserWarning: update_node() is deprecated, use OmegaConf.update(). (Since 2.0)\n",
      "      self.cfg.update_node(config_path, return_path)\n",
      "    \n",
      "Some weights of the model checkpoint at bert-base-cased were not used when initializing BertModel: ['cls.predictions.transform.dense.bias', 'cls.predictions.decoder.weight', 'cls.seq_relationship.bias', 'cls.seq_relationship.weight', 'cls.predictions.transform.LayerNorm.bias', 'cls.predictions.transform.dense.weight', 'cls.predictions.transform.LayerNorm.weight', 'cls.predictions.bias']\n",
      "- This IS expected if you are initializing BertModel from the checkpoint of a model trained on another task or with another architecture (e.g. initializing a BertForSequenceClassification model from a BertForPreTraining model).\n",
      "- This IS NOT expected if you are initializing BertModel from the checkpoint of a model that you expect to be exactly identical (initializing a BertForSequenceClassification model from a BertForSequenceClassification model).\n",
      "Some weights of the model checkpoint at bert-base-cased were not used when initializing BertEncoder: ['cls.predictions.transform.dense.bias', 'cls.predictions.decoder.weight', 'cls.seq_relationship.bias', 'cls.seq_relationship.weight', 'cls.predictions.transform.LayerNorm.bias', 'cls.predictions.transform.dense.weight', 'cls.predictions.transform.LayerNorm.weight', 'cls.predictions.bias']\n",
      "- This IS expected if you are initializing BertEncoder from the checkpoint of a model trained on another task or with another architecture (e.g. initializing a BertForSequenceClassification model from a BertForPreTraining model).\n",
      "- This IS NOT expected if you are initializing BertEncoder from the checkpoint of a model that you expect to be exactly identical (initializing a BertForSequenceClassification model from a BertForSequenceClassification model).\n",
      "[NeMo I 2025-02-23 17:54:44 text_classification_with_bert:118] ===========================================================================================\n",
      "[NeMo I 2025-02-23 17:54:44 text_classification_with_bert:119] Starting training...\n",
      "LOCAL_RANK: 0 - CUDA_VISIBLE_DEVICES: [0]\n",
      "[NeMo I 2025-02-23 17:54:44 modelPT:748] Optimizer config = Adam (\n",
      "    Parameter Group 0\n",
      "        amsgrad: False\n",
      "        betas: [0.9, 0.999]\n",
      "        eps: 1e-08\n",
      "        lr: 2e-05\n",
      "        weight_decay: 0.01\n",
      "    )\n",
      "[NeMo I 2025-02-23 17:54:44 lr_scheduler:617] Scheduler \"<nemo.core.optim.lr_scheduler.WarmupAnnealing object at 0x7fbe9964c1f0>\" \n",
      "    will be used during training (effective maximum steps = 160) - \n",
      "    Parameters : \n",
      "    (warmup_steps: null\n",
      "    warmup_ratio: 0.1\n",
      "    last_epoch: -1\n",
      "    max_steps: 160\n",
      "    )\n",
      "initializing ddp: GLOBAL_RANK: 0, MEMBER: 1/1\n",
      "Added key: store_based_barrier_key:1 to store for rank: 0\n",
      "\n",
      "  | Name                  | Type                 | Params\n",
      "---------------------------------------------------------------\n",
      "0 | loss                  | CrossEntropyLoss     | 0     \n",
      "1 | bert_model            | BertEncoder          | 108 M \n",
      "2 | classifier            | SequenceClassifier   | 592 K \n",
      "3 | classification_report | ClassificationReport | 0     \n",
      "---------------------------------------------------------------\n",
      "108 M     Trainable params\n",
      "0         Non-trainable params\n",
      "108 M     Total params\n",
      "435.613   Total estimated model params size (MB)\n",
      "Epoch 0:  82%|▊| 33/40 [00:03<00:00,  9.07it/s, loss=0.796, v_num=4-33, lr=1.81e\n",
      "Validating: 0it [00:00, ?it/s]\u001b[A\n",
      "Validating:   0%|                                         | 0/8 [00:00<?, ?it/s]\u001b[A\n",
      "Epoch 0:  88%|▉| 35/40 [00:03<00:00,  9.29it/s, loss=0.796, v_num=4-33, lr=1.81e\u001b[A\n",
      "Epoch 0:  98%|▉| 39/40 [00:03<00:00, 10.06it/s, loss=0.796, v_num=4-33, lr=1.81e\u001b[A[NeMo I 2025-02-23 17:54:49 text_classification_model:165] val_report: \n",
      "    label                                                precision    recall       f1           support   \n",
      "    label_id: 0                                             77.39     100.00      87.25         89\n",
      "    label_id: 1                                              0.00       0.00       0.00         26\n",
      "    label_id: 2                                              0.00       0.00       0.00          0\n",
      "    -------------------\n",
      "    micro avg                                               77.39      77.39      77.39        115\n",
      "    macro avg                                               38.70      50.00      43.63        115\n",
      "    weighted avg                                            59.89      77.39      67.53        115\n",
      "    \n",
      "Epoch 0: 100%|█| 40/40 [00:03<00:00, 10.13it/s, loss=0.796, v_num=4-33, lr=1.79e\n",
      "                                                                                \u001b[AEpoch 0, global step 31: val_loss reached 0.68421 (best 0.68421), saving model to \"/dli/task/nemo_experiments/TextClassification/2025-02-23_17-54-33/checkpoints/TextClassification--val_loss=0.68-epoch=0.ckpt\" as top 3\n",
      "Epoch 1:  80%|▊| 32/40 [00:03<00:00, 10.28it/s, loss=0.622, v_num=4-33, lr=1.36e\n",
      "Validating: 0it [00:00, ?it/s]\u001b[A\n",
      "Validating:   0%|                                         | 0/8 [00:00<?, ?it/s]\u001b[A\n",
      "Epoch 1:  90%|▉| 36/40 [00:03<00:00, 10.97it/s, loss=0.622, v_num=4-33, lr=1.36e\u001b[A\n",
      "Epoch 1: 100%|█| 40/40 [00:03<00:00, 11.80it/s, loss=0.622, v_num=4-33, lr=1.36e\u001b[A[NeMo I 2025-02-23 17:54:56 text_classification_model:165] val_report: \n",
      "    label                                                precision    recall       f1           support   \n",
      "    label_id: 0                                             77.39     100.00      87.25         89\n",
      "    label_id: 1                                              0.00       0.00       0.00         26\n",
      "    label_id: 2                                              0.00       0.00       0.00          0\n",
      "    -------------------\n",
      "    micro avg                                               77.39      77.39      77.39        115\n",
      "    macro avg                                               38.70      50.00      43.63        115\n",
      "    weighted avg                                            59.89      77.39      67.53        115\n",
      "    \n",
      "Epoch 1: 100%|█| 40/40 [00:03<00:00, 11.64it/s, loss=0.622, v_num=4-33, lr=1.35e\n",
      "                                                                                \u001b[AEpoch 1, global step 63: val_loss reached 0.62330 (best 0.62330), saving model to \"/dli/task/nemo_experiments/TextClassification/2025-02-23_17-54-33/checkpoints/TextClassification--val_loss=0.62-epoch=1.ckpt\" as top 3\n",
      "Epoch 2:  80%|▊| 32/40 [00:03<00:00, 10.26it/s, loss=0.58, v_num=4-33, lr=9.17e-\n",
      "Validating: 0it [00:00, ?it/s]\u001b[A\n",
      "Validating:   0%|                                         | 0/8 [00:00<?, ?it/s]\u001b[A\n",
      "Epoch 2:  90%|▉| 36/40 [00:03<00:00, 10.95it/s, loss=0.58, v_num=4-33, lr=9.17e-\u001b[A\n",
      "Epoch 2: 100%|█| 40/40 [00:03<00:00, 11.79it/s, loss=0.58, v_num=4-33, lr=9.17e-\u001b[A[NeMo I 2025-02-23 17:55:03 text_classification_model:165] val_report: \n",
      "    label                                                precision    recall       f1           support   \n",
      "    label_id: 0                                             77.39     100.00      87.25         89\n",
      "    label_id: 1                                              0.00       0.00       0.00         26\n",
      "    label_id: 2                                              0.00       0.00       0.00          0\n",
      "    -------------------\n",
      "    micro avg                                               77.39      77.39      77.39        115\n",
      "    macro avg                                               38.70      50.00      43.63        115\n",
      "    weighted avg                                            59.89      77.39      67.53        115\n",
      "    \n",
      "Epoch 2: 100%|█| 40/40 [00:03<00:00, 11.63it/s, loss=0.58, v_num=4-33, lr=9.03e-\n",
      "                                                                                \u001b[AEpoch 2, global step 95: val_loss reached 0.61592 (best 0.61592), saving model to \"/dli/task/nemo_experiments/TextClassification/2025-02-23_17-54-33/checkpoints/TextClassification--val_loss=0.62-epoch=2.ckpt\" as top 3\n",
      "Epoch 3:  80%|▊| 32/40 [00:03<00:00, 10.28it/s, loss=0.566, v_num=4-33, lr=4.72e\n",
      "Validating: 0it [00:00, ?it/s]\u001b[A\n",
      "Validating:   0%|                                         | 0/8 [00:00<?, ?it/s]\u001b[A\n",
      "Epoch 3:  90%|▉| 36/40 [00:03<00:00, 10.96it/s, loss=0.566, v_num=4-33, lr=4.72e\u001b[A\n",
      "Epoch 3: 100%|█| 40/40 [00:03<00:00, 11.79it/s, loss=0.566, v_num=4-33, lr=4.72e\u001b[A[NeMo I 2025-02-23 17:55:11 text_classification_model:165] val_report: \n",
      "    label                                                precision    recall       f1           support   \n",
      "    label_id: 0                                             77.39     100.00      87.25         89\n",
      "    label_id: 1                                              0.00       0.00       0.00         26\n",
      "    label_id: 2                                              0.00       0.00       0.00          0\n",
      "    -------------------\n",
      "    micro avg                                               77.39      77.39      77.39        115\n",
      "    macro avg                                               38.70      50.00      43.63        115\n",
      "    weighted avg                                            59.89      77.39      67.53        115\n",
      "    \n",
      "Epoch 3: 100%|█| 40/40 [00:03<00:00, 11.63it/s, loss=0.566, v_num=4-33, lr=4.58e\n",
      "                                                                                \u001b[AEpoch 3, global step 127: val_loss reached 0.60051 (best 0.60051), saving model to \"/dli/task/nemo_experiments/TextClassification/2025-02-23_17-54-33/checkpoints/TextClassification--val_loss=0.60-epoch=3.ckpt\" as top 3\n",
      "Epoch 4:  80%|▊| 32/40 [00:03<00:00, 10.20it/s, loss=0.556, v_num=4-33, lr=2.78e\n",
      "Validating: 0it [00:00, ?it/s]\u001b[A\n",
      "Validating:   0%|                                         | 0/8 [00:00<?, ?it/s]\u001b[A\n",
      "Epoch 4:  90%|▉| 36/40 [00:03<00:00, 10.91it/s, loss=0.556, v_num=4-33, lr=2.78e\u001b[A\n",
      "Epoch 4: 100%|█| 40/40 [00:03<00:00, 11.74it/s, loss=0.556, v_num=4-33, lr=2.78e\u001b[A[NeMo I 2025-02-23 17:55:18 text_classification_model:165] val_report: \n",
      "    label                                                precision    recall       f1           support   \n",
      "    label_id: 0                                             77.39     100.00      87.25         89\n",
      "    label_id: 1                                              0.00       0.00       0.00         26\n",
      "    label_id: 2                                              0.00       0.00       0.00          0\n",
      "    -------------------\n",
      "    micro avg                                               77.39      77.39      77.39        115\n",
      "    macro avg                                               38.70      50.00      43.63        115\n",
      "    weighted avg                                            59.89      77.39      67.53        115\n",
      "    \n",
      "Epoch 4: 100%|█| 40/40 [00:03<00:00, 11.59it/s, loss=0.556, v_num=4-33, lr=1.39e\n",
      "                                                                                \u001b[AEpoch 4, global step 159: val_loss reached 0.59552 (best 0.59552), saving model to \"/dli/task/nemo_experiments/TextClassification/2025-02-23_17-54-33/checkpoints/TextClassification--val_loss=0.60-epoch=4.ckpt\" as top 3\n",
      "Saving latest checkpoint...\n",
      "Epoch 4: 100%|█| 40/40 [00:07<00:00,  5.43it/s, loss=0.556, v_num=4-33, lr=1.39e\n",
      "[NeMo W 2025-02-23 17:55:22 nemo_logging:349] /opt/conda/lib/python3.8/site-packages/nemo/core/classes/modelPT.py:308: UserWarning: update_node() is deprecated, use OmegaConf.update(). (Since 2.0)\n",
      "      conf.update_node(conf_path, item.path)\n",
      "    \n",
      "[NeMo I 2025-02-23 17:55:44 text_classification_with_bert:121] Training finished!\n",
      "[NeMo I 2025-02-23 17:55:44 text_classification_with_bert:122] ===========================================================================================\n",
      "[NeMo I 2025-02-23 17:56:11 text_classification_with_bert:127] Model is saved into `.nemo` file: text_classification_model.nemo\n",
      "CPU times: user 1.01 s, sys: 434 ms, total: 1.44 s\n",
      "Wall time: 1min 41s\n"
     ]
    }
   ],
   "source": [
    "%%time\n",
    "# Run the training script, overriding the config values in the command line\n",
    "TC_DIR = \"/dli/task/nemo/examples/nlp/text_classification\"\n",
    "\n",
    "\n",
    "!python $TC_DIR/text_classification_with_bert.py \\\n",
    "        model.dataset.num_classes=$NUM_CLASSES \\\n",
    "        model.dataset.max_seq_length=$MAX_SEQ_LENGTH \\\n",
    "        model.train_ds.file_path=$PATH_TO_TRAIN_FILE \\\n",
    "        model.validation_ds.file_path=$PATH_TO_VAL_FILE \\\n",
    "        model.infer_samples=[] \\\n",
    "        trainer.max_epochs=$MAX_EPOCHS \\\n",
    "        model.language_model.pretrained_model_name=$PRETRAINED_MODEL_NAME \\\n",
    "        trainer.amp_level=$AMP_LEVEL \\\n",
    "        trainer.precision=$PRECISION \\\n",
    "        model.train_ds.batch_size=$BATCH_SIZE \\\n",
    "        model.validation_ds.batch_size=$BATCH_SIZE"
   ]
  },
  {
   "cell_type": "code",
   "execution_count": 60,
   "metadata": {},
   "outputs": [],
   "source": [
    "# Run to save for assessment- DO NOT CHANGE\n",
    "cmd_log = os.path.join(os.path.dirname(os.path.dirname(get_latest_model())),'cmd-args.log')\n",
    "lightning_logs = os.path.join(os.path.dirname(os.path.dirname(get_latest_model())),'lightning_logs.txt')\n",
    "\n",
    "with open(cmd_log, \"r\") as f:\n",
    "    cmd = f.read()\n",
    "    cmd_list = cmd.split()\n",
    "with open(\"my_assessment/step4.json\", \"w\") as outfile: \n",
    "    json.dump(cmd_list, outfile) \n",
    "    \n",
    "with open(lightning_logs, \"r\") as f:\n",
    "    log = f.readlines()\n",
    "with open(\"my_assessment/step4_lightning.json\", \"w\") as outfile:\n",
    "    json.dump(log, outfile)"
   ]
  },
  {
   "cell_type": "markdown",
   "metadata": {},
   "source": [
    "---\n",
    "# Step 5: Infer"
   ]
  },
  {
   "cell_type": "markdown",
   "metadata": {},
   "source": [
    "### Run Inference (graded)\n",
    "Run the inference blocks to see and save the results. (Note: there is nothing to fix here)"
   ]
  },
  {
   "cell_type": "code",
   "execution_count": null,
   "metadata": {
    "scrolled": true,
    "tags": []
   },
   "outputs": [],
   "source": [
    "# Run inference for assessment -  - DO NOT CHANGE\n",
    "from nemo.collections import nlp as nemo_nlp\n",
    "\n",
    "# Instantiate the model by restoring from the latest .nemo checkpoint\n",
    "model = nemo_nlp.models.TextClassificationModel.restore_from(get_latest_model())\n",
    "\n",
    "# Find the latest model path\n",
    "DATA_DIR = '/dli/task/data/federalist_papers_HM'\n",
    "\n",
    "test_files = [\n",
    "    'test49.tsv',\n",
    "    'test50.tsv',\n",
    "    'test51.tsv',\n",
    "    'test52.tsv',\n",
    "    'test53.tsv',\n",
    "    'test54.tsv', \n",
    "    'test55.tsv',\n",
    "    'test56.tsv',\n",
    "    'test57.tsv',\n",
    "    'test62.tsv',\n",
    "]\n",
    "results = []\n",
    "for test_file in test_files:\n",
    "    # get as list and remove header row\n",
    "    filepath = os.path.join(DATA_DIR, test_file)\n",
    "    with open(filepath, \"r\") as f:\n",
    "        lines = f.readlines()\n",
    "    del lines[0]\n",
    "    \n",
    "    results.append(model.classifytext(lines, batch_size = 1, max_seq_length = 256))\n",
    "print(results)"
   ]
  },
  {
   "cell_type": "code",
   "execution_count": null,
   "metadata": {},
   "outputs": [],
   "source": [
    "# Run to save for assessment- DO NOT CHANGE\n",
    "author = []\n",
    "for result in results:\n",
    "    avg_result = sum(result) / len(result)\n",
    "    if avg_result < 0.5:\n",
    "        author.append(\"HAMILTON\")\n",
    "        print(\"HAMILTON\")\n",
    "    else:\n",
    "        author.append(\"MADISON\")\n",
    "        print(\"MADISON\")\n",
    "        \n",
    "with open(\"my_assessment/step5.json\", \"w\") as outfile: \n",
    "    json.dump(author, outfile) "
   ]
  },
  {
   "cell_type": "markdown",
   "metadata": {},
   "source": [
    "---\n",
    "# Step 6: Submit You Assessment\n",
    "How were your results?  According to an earlier [machine learning analysis using support vector machines](http://pages.cs.wisc.edu/~gfung/federalist.pdf), Madison was the most likely true author of all the disputed papers (assuming no collaboration).  It is possible to get the \"all MADISON\" answer using the tools you have.  If you are so inclined, you can keep trying, though **a particular result is *NOT* required to pass the assessment**.\n",
    "\n",
    "If you are satisfied that you have completed the code correctly, and that your training and inference are working correctly, you can submit your project as follows to the autograder:\n",
    "\n",
    "1. Go back to the GPU launch page and click the checkmark to run the assessment:\n",
    "\n",
    "<img src=\"images/assessment_checkmark.png\">\n",
    "\n",
    "2. That's it!  If you passed, you'll receive a pop-up window saying so, and the points will be credited to your progress.  If not, you'll receive feedback in the pop-up window. \n",
    "\n",
    "<img src=\"images/assessment_pass_popup.png\">\n",
    "\n",
    "You can always check your assessment progress in the course progress tab.  Note that partial values for the coding assessment won't be visible here - it shows up as either 0 or 70 points.  Be sure to complete the questions on Transformer and Deployment on the same course page to qualify for your final certificate!\n",
    "\n",
    "<img src=\"images/progress.png\">"
   ]
  },
  {
   "cell_type": "markdown",
   "metadata": {},
   "source": [
    "<a href=\"https://www.nvidia.com/dli\"> <img src=\"../images/DLI_Header.png\" alt=\"Header\" style=\"width: 400px;\"/> </a>"
   ]
  }
 ],
 "metadata": {
  "kernelspec": {
   "display_name": "Python 3",
   "language": "python",
   "name": "python3"
  },
  "language_info": {
   "codemirror_mode": {
    "name": "ipython",
    "version": 3
   },
   "file_extension": ".py",
   "mimetype": "text/x-python",
   "name": "python",
   "nbconvert_exporter": "python",
   "pygments_lexer": "ipython3",
   "version": "3.8.8"
  },
  "pycharm": {
   "stem_cell": {
    "cell_type": "raw",
    "metadata": {
     "collapsed": false
    },
    "source": []
   }
  }
 },
 "nbformat": 4,
 "nbformat_minor": 4
}
